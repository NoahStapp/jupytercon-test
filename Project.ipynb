{
 "cells": [
  {
   "cell_type": "markdown",
   "metadata": {
    "tags": [
     "title",
     "presentation"
    ]
   },
   "source": [
    "# Testing memory"
   ]
  },
  {
   "cell_type": "code",
   "execution_count": null,
   "metadata": {
    "tags": [
     "testing"
    ]
   },
   "outputs": [],
   "source": [
    "import numpy as np\n",
    "\n",
    "def memory_intensive(size):\n",
    "    return np.random.randn(size**2, size**2)"
   ]
  },
  {
   "cell_type": "code",
   "execution_count": null,
   "metadata": {
    "tags": [
     "memory",
     "testing"
    ]
   },
   "outputs": [],
   "source": [
    "memory_intensive(100)"
   ]
  },
  {
   "cell_type": "markdown",
   "metadata": {
    "tags": [
     "presentation"
    ]
   },
   "source": [
    "We are testing memory. This process is very intensive and long, and as such requires significant computing resources."
   ]
  },
  {
   "cell_type": "markdown",
   "metadata": {
    "tags": [
     "presentation"
    ]
   },
   "source": [
    "## Navigate through a large data set "
   ]
  },
  {
   "cell_type": "markdown",
   "metadata": {
    "tags": [
     "presentation"
    ]
   },
   "source": [
    "Here is a massive data set. This data set has a lot of long numerals in scientific notation."
   ]
  },
  {
   "cell_type": "code",
   "execution_count": null,
   "metadata": {
    "tags": [
     "dataset",
     "testing"
    ]
   },
   "outputs": [],
   "source": [
    "array = [[ 3.71940607e-01, -1.10445379e+00,  6.00099710e-01,\n",
    "        -1.26018331e+00, -9.76718927e-01,  7.82469726e-01,\n",
    "         9.84573260e-01, -7.05333248e-01,  5.19193733e-01,\n",
    "        -9.15193060e-03, -7.64539451e-01, -6.02521959e-03,\n",
    "         4.01621401e-01,  5.55762562e-01,  1.30521626e+00,\n",
    "        -1.01326272e+00, -4.01694894e-01,  7.98047593e-01,\n",
    "        -9.52268993e-01,  9.69553975e-01, -5.41566109e-01,\n",
    "        -4.39936112e-01, -4.12087112e-01,  6.87942849e-01,\n",
    "        -1.07725528e+00],\n",
    "       [ 4.93497797e-01, -1.07408478e+00, -2.16987859e-01,\n",
    "        -3.45801918e+00, -3.87185507e-01, -1.61008104e+00,\n",
    "        -6.95841578e-02, -6.28889392e-01,  5.96161132e-01,\n",
    "         1.07291022e-02,  1.63741277e+00, -1.01530097e+00,\n",
    "        -9.20016142e-02, -1.39912882e+00, -8.51965814e-01,\n",
    "         2.00805077e+00,  7.62741311e-01,  1.87992926e-01,\n",
    "         1.12853793e-01, -2.50547517e-01, -1.79218777e+00,\n",
    "         1.16691636e+00, -3.68504015e-02,  7.33049621e-01,\n",
    "        -1.30537757e+00],\n",
    "       [-1.58687153e-01, -3.44952992e-01, -2.70443042e-01,\n",
    "         1.03563015e-01,  1.12934022e+00,  4.60529813e-01,\n",
    "         2.63011310e+00,  2.98527593e-01,  1.07512373e+00,\n",
    "        -1.20675427e+00,  1.41828684e+00, -7.84599534e-01,\n",
    "         1.02655250e+00, -9.14351213e-01,  4.84288238e-01,\n",
    "         6.33310040e-01,  3.17841750e-01,  7.24257690e-01,\n",
    "        -3.44664834e-01, -4.51729090e-01, -1.55597918e+00,\n",
    "        -3.68884089e-01,  8.71645909e-01, -1.98395576e+00,\n",
    "        -1.19659484e-01],\n",
    "       [ 1.18046021e+00,  7.63769413e-01,  5.03769113e-01,\n",
    "         1.44215673e+00, -1.44611873e+00, -1.12271374e-01,\n",
    "        -1.39762126e-01, -5.06638967e-01,  1.86151624e+00,\n",
    "        -3.02299349e-01,  2.84495281e-01,  1.27346721e+00,\n",
    "        -1.99666162e+00,  8.36783213e-01, -4.68262237e-01,\n",
    "         1.41457601e+00,  1.09476998e+00,  7.21885020e-01,\n",
    "        -5.48439411e-01,  4.05165929e-01,  2.31020339e+00,\n",
    "        -1.20887766e+00, -6.24256763e-01,  7.19833784e-01,\n",
    "         2.02606438e+00],\n",
    "       [ 1.03868816e+00,  6.08046716e-01, -1.21566039e+00,\n",
    "         4.95407217e-01,  2.08897724e-01,  1.08726120e+00,\n",
    "         4.61396104e-01, -3.27650018e-01,  9.33204178e-01,\n",
    "         2.93829052e-04, -4.30912349e-01,  4.57075257e-01,\n",
    "        -1.15069917e+00, -4.70538411e-01, -9.60736937e-01,\n",
    "        -9.21261059e-01, -8.35343488e-01,  3.00659401e-01,\n",
    "        -9.09325250e-01,  1.09613189e+00, -8.90170298e-01,\n",
    "        -8.78787335e-03, -2.38552380e-01,  4.46422517e-01,\n",
    "        -7.00508516e-02],\n",
    "       [-9.10048205e-01, -1.04748645e+00, -1.65421134e+00,\n",
    "        -1.88602703e+00, -2.09194397e-01,  1.25361832e+00,\n",
    "        -8.41898418e-01, -3.68185687e-01,  1.25913021e+00,\n",
    "        -1.78758757e+00,  1.89284518e+00, -1.03886691e+00,\n",
    "         5.57073264e-01,  4.13694546e-01,  1.05720192e+00,\n",
    "         9.39029648e-01,  1.79229606e+00, -1.65986000e+00,\n",
    "         5.64195736e-01,  6.86465526e-01, -7.23324269e-01,\n",
    "         5.84543425e-01, -4.14962792e-01, -3.41447872e-01,\n",
    "         1.35560428e+00]]"
   ]
  },
  {
   "cell_type": "markdown",
   "metadata": {
    "tags": [
     "presentation"
    ]
   },
   "source": [
    "# Testing the kernel"
   ]
  },
  {
   "cell_type": "code",
   "execution_count": null,
   "metadata": {
    "tags": [
     "testing"
    ]
   },
   "outputs": [],
   "source": [
    "import time\n",
    "i = 0\n",
    "\n",
    "while i is not 5:\n",
    "    time.sleep(1)\n",
    "    i = i + 1\n",
    "    \n",
    "print(\"I'm waking up\")"
   ]
  },
  {
   "cell_type": "markdown",
   "metadata": {},
   "source": [
    "It has woken up! Welcome to New York. Jupytercon is great!"
   ]
  }
 ],
 "metadata": {
  "kernelspec": {
   "display_name": "Python 3",
   "language": "python",
   "name": "python3"
  },
  "language_info": {
   "codemirror_mode": {
    "name": "ipython",
    "version": 3
   },
   "file_extension": ".py",
   "mimetype": "text/x-python",
   "name": "python",
   "nbconvert_exporter": "python",
   "pygments_lexer": "ipython3",
   "version": "3.6.5"
  },
  "toc-autonumbering": false,
  "toc-showcode": true,
  "toc-showmarkdowntxt": false,
  "toc-showtags": false
 },
 "nbformat": 4,
 "nbformat_minor": 2
}
